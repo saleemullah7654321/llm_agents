{
 "cells": [
  {
   "cell_type": "code",
   "execution_count": null,
   "metadata": {},
   "outputs": [
    {
     "name": "stdout",
     "output_type": "stream",
     "text": [
      "ChatCompletionMessage(content=\"Ah, the ultimate question! According to Douglas Adams, the answer to the ultimate question of life, the universe, and everything is **42**. However, the trick lies in figuring out what the actual question is. If you're looking for a deeper, more philosophical answer, Adams suggests that the search for meaning itself might be more important than any definitive answer. So, keep exploring, keep questioning, and enjoy the journey through the cosmos!\", refusal=None, role='assistant', audio=None, function_call=None, tool_calls=None)\n"
     ]
    }
   ],
   "source": [
    "import os\n",
    "from openai import OpenAI\n",
    "\n",
    "XAI_API_KEY = os.getenv(\"XAI_API_KEY\")\n",
    "client = OpenAI(\n",
    "    api_key=XAI_API_KEY,\n",
    "    base_url=\"https://api.x.ai/v1\",\n",
    ")\n",
    "\n",
    "completion = client.chat.completions.create(\n",
    "    model=\"grok-beta\",\n",
    "    messages=[\n",
    "        {\"role\": \"system\", \"content\": \"You are Grok, a chatbot inspired by the Hitchhikers Guide to the Galaxy.\"},\n",
    "        {\"role\": \"user\", \"content\": \"What is the meaning of life, the universe, and everything?\"},\n",
    "    ],\n",
    ")\n"
   ]
  },
  {
   "cell_type": "code",
   "execution_count": 5,
   "metadata": {},
   "outputs": [
    {
     "data": {
      "text/plain": [
       "\"Ah, the ultimate question! According to Douglas Adams, the answer to the ultimate question of life, the universe, and everything is **42**. However, the trick lies in figuring out what the actual question is. If you're looking for a deeper, more philosophical answer, Adams suggests that the search for meaning itself might be more important than any definitive answer. So, keep exploring, keep questioning, and enjoy the journey through the cosmos!\""
      ]
     },
     "metadata": {},
     "output_type": "display_data"
    }
   ],
   "source": [
    "display(completion.choices[0].message.content)\n"
   ]
  },
  {
   "cell_type": "code",
   "execution_count": null,
   "metadata": {},
   "outputs": [],
   "source": []
  }
 ],
 "metadata": {
  "kernelspec": {
   "display_name": "base",
   "language": "python",
   "name": "python3"
  },
  "language_info": {
   "codemirror_mode": {
    "name": "ipython",
    "version": 3
   },
   "file_extension": ".py",
   "mimetype": "text/x-python",
   "name": "python",
   "nbconvert_exporter": "python",
   "pygments_lexer": "ipython3",
   "version": "3.8.8"
  }
 },
 "nbformat": 4,
 "nbformat_minor": 2
}
